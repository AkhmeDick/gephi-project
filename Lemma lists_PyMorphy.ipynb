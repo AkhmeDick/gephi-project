{
 "cells": [
  {
   "cell_type": "code",
   "execution_count": 2,
   "metadata": {},
   "outputs": [],
   "source": [
    "from nltk import word_tokenize\n",
    "import pymorphy2 as pm\n",
    "import os\n",
    "\n",
    "\n",
    "def make_lemma_list(text, outfilename):\n",
    "    tokens = word_tokenize(text)\n",
    "    morph = pm.MorphAnalyzer()\n",
    "\n",
    "    lemmas_dict = {}\n",
    "\n",
    "    for token in tokens:\n",
    "        parsed = morph.parse(token)\n",
    "        lemma = parsed[0].normal_form\n",
    "        if lemma not in lemmas_dict.keys():\n",
    "            lemmas_dict[lemma] = []\n",
    "            lemmas_dict[lemma].append(token)\n",
    "        else:\n",
    "            lemmas_dict[lemma].append(token)\n",
    "\n",
    "    for k in lemmas_dict.keys():\n",
    "        lemmas_dict[k] = list(set(lemmas_dict[k]))\n",
    "        \n",
    "    text = ''\n",
    "    for k in lemmas_dict.keys():\n",
    "        text += k+'\\t->\\t'\n",
    "        for el in lemmas_dict[k]:\n",
    "            text += el+'\\t'\n",
    "        text +='\\n'\n",
    "\n",
    "    with open(outfilename, 'w', encoding='utf-8') as f:\n",
    "        f.write(text)"
   ]
  },
  {
   "cell_type": "markdown",
   "metadata": {},
   "source": [
    "### Берем корпус для обработки\n",
    "Если корпус представляет собой папку с файлами, придется пройтись по файлам, открыть и прочитать каждый, результат записать в переменную corpus.\n",
    "\n",
    "os.listdir(path) возвращает список названий файлов в директории, путь до которой мы указали"
   ]
  },
  {
   "cell_type": "code",
   "execution_count": 3,
   "metadata": {},
   "outputs": [],
   "source": [
    "path = '/home/lyu/BootCaT Corpora/___BBC_vaccine/corpus/'\n",
    "filenames = os.listdir(path)\n",
    "\n",
    "corpus = ''\n",
    "\n",
    "for name in filenames:\n",
    "    with open(path + name, 'r', encoding='utf-8') as f:\n",
    "        text = f.read()\n",
    "        corpus += text.lower()"
   ]
  },
  {
   "cell_type": "markdown",
   "metadata": {},
   "source": [
    "### Обрабатываем корпус"
   ]
  },
  {
   "cell_type": "code",
   "execution_count": 4,
   "metadata": {},
   "outputs": [],
   "source": [
    "outfilename = 'lemma_list_pymorphy.txt'\n",
    "\n",
    "make_lemma_list(corpus, outfilename)"
   ]
  },
  {
   "cell_type": "code",
   "execution_count": null,
   "metadata": {},
   "outputs": [],
   "source": []
  }
 ],
 "metadata": {
  "kernelspec": {
   "display_name": "Python 3 (ipykernel)",
   "language": "python",
   "name": "python3"
  },
  "language_info": {
   "codemirror_mode": {
    "name": "ipython",
    "version": 3
   },
   "file_extension": ".py",
   "mimetype": "text/x-python",
   "name": "python",
   "nbconvert_exporter": "python",
   "pygments_lexer": "ipython3",
   "version": "3.9.7"
  }
 },
 "nbformat": 4,
 "nbformat_minor": 2
}
